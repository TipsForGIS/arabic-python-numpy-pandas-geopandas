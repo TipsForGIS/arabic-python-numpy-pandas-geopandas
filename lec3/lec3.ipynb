{
 "cells": [
  {
   "cell_type": "markdown",
   "metadata": {},
   "source": [
    "# بسم الله الرحمن الرحيم\n",
    "---"
   ]
  },
  {
   "cell_type": "markdown",
   "metadata": {},
   "source": [
    "## إنشاء دال لحساب مساحة مستطيل\n",
    "## create a function to calculate the area of a rectangle"
   ]
  },
  {
   "cell_type": "code",
   "execution_count": null,
   "metadata": {},
   "outputs": [],
   "source": [
    "def get_area_rectangle(l, w):\n",
    "    return 'rectangular area of length {} and width {} = {}'.format(l, w, l * w)"
   ]
  },
  {
   "cell_type": "markdown",
   "metadata": {},
   "source": [
    "## استخدام الدالة\n",
    "## call the function"
   ]
  },
  {
   "cell_type": "code",
   "execution_count": null,
   "metadata": {},
   "outputs": [],
   "source": [
    "area_desc = get_area_rectangle(3,4)\n",
    "print(area_desc)"
   ]
  },
  {
   "cell_type": "markdown",
   "metadata": {},
   "source": [
    "---\n",
    "## إنشاء دال لحساب المسافة بين نقطتين\n",
    "## create a function to calculate the distance between two points"
   ]
  },
  {
   "cell_type": "code",
   "execution_count": null,
   "metadata": {},
   "outputs": [],
   "source": [
    "def get_dist(p1, p2):\n",
    "    delta_x = p1[0] - p2[0]\n",
    "    delta_y = p1[1] - p2[1]\n",
    "    return round((delta_x**2 + delta_y**2)**0.5,2)"
   ]
  },
  {
   "cell_type": "markdown",
   "metadata": {},
   "source": [
    "## استخدام الدالة\n",
    "## call the function"
   ]
  },
  {
   "cell_type": "code",
   "execution_count": null,
   "metadata": {},
   "outputs": [],
   "source": [
    "point1 = [0,0]\n",
    "point2 = [-1,9]\n",
    "point3 = [6,7]\n",
    "point4 = [-1,-2]\n",
    "\n",
    "print(get_dist(point1, point2))\n",
    "print(get_dist(point3, point4))"
   ]
  }
 ],
 "metadata": {
  "kernelspec": {
   "display_name": "jv",
   "language": "python",
   "name": "jv"
  },
  "language_info": {
   "codemirror_mode": {
    "name": "ipython",
    "version": 3
   },
   "file_extension": ".py",
   "mimetype": "text/x-python",
   "name": "python",
   "nbconvert_exporter": "python",
   "pygments_lexer": "ipython3",
   "version": "3.9.0"
  }
 },
 "nbformat": 4,
 "nbformat_minor": 4
}
