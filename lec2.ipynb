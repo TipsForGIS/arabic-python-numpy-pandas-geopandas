{
 "cells": [
  {
   "cell_type": "markdown",
   "metadata": {},
   "source": [
    "# بسم الله الرحمن الرحيم\n",
    "---"
   ]
  },
  {
   "cell_type": "markdown",
   "metadata": {},
   "source": [
    "## إنشاء قائمة أرقام وتخزينها في متغير\n",
    "## create a numeric list and assign it to a variable"
   ]
  },
  {
   "cell_type": "code",
   "execution_count": null,
   "metadata": {},
   "outputs": [],
   "source": [
    "nums = [5, 10, 15, -5, -20, 0, 25]"
   ]
  },
  {
   "cell_type": "markdown",
   "metadata": {},
   "source": [
    "---\n",
    "## إنشاء قائمة كتابية وتخزينها في متغير\n",
    "## create a string list and assign it to a variable"
   ]
  },
  {
   "cell_type": "code",
   "execution_count": null,
   "metadata": {},
   "outputs": [],
   "source": [
    "words = ['i am the 1st','i am the 2nd', 'i am the 3rd', '123', 'q', 'w', 'my name is ali', '11bu']"
   ]
  },
  {
   "cell_type": "markdown",
   "metadata": {},
   "source": [
    "---\n",
    "## طباعة القيمة الأولى والثانية والأخيرة في القائمة\n",
    "## printing the first, second, and last elements in a list"
   ]
  },
  {
   "cell_type": "code",
   "execution_count": null,
   "metadata": {},
   "outputs": [],
   "source": [
    "print('1st element -> {}, 2nd element -> {}, and last element -> {}'.format(nums[0], nums[1], nums[-1]))"
   ]
  },
  {
   "cell_type": "markdown",
   "metadata": {},
   "source": [
    "---\n",
    "##  حذف القيمة الثانية من القائمة ، القيمة الثانية في الموقع ؤقم ١ لأن المواقع تبدأ من صفر\n",
    "## removing the second element from a list, second index is 1 since indces start at 0"
   ]
  },
  {
   "cell_type": "code",
   "execution_count": null,
   "metadata": {},
   "outputs": [],
   "source": [
    "words.pop(1)\n",
    "words"
   ]
  },
  {
   "cell_type": "markdown",
   "metadata": {},
   "source": [
    "---\n",
    "## إنشاء حلقة تكرار لطباعة القيم داخل قائمة\n",
    "## create a for loop to print values in a list"
   ]
  },
  {
   "cell_type": "code",
   "execution_count": null,
   "metadata": {},
   "outputs": [],
   "source": [
    "for el in nums:\n",
    "    print(el)"
   ]
  },
  {
   "cell_type": "markdown",
   "metadata": {},
   "source": [
    "---\n",
    "## إنشاء حلقة تكرار لطباعة القيم الزوجية فقط داخل قائمة\n",
    "## create a for loop to print only even values in a list"
   ]
  },
  {
   "cell_type": "code",
   "execution_count": null,
   "metadata": {},
   "outputs": [],
   "source": [
    "for el in nums:\n",
    "    if el % 2 == 0:\n",
    "        print(el)"
   ]
  },
  {
   "cell_type": "markdown",
   "metadata": {},
   "source": [
    "---\n",
    "## إنشاء قاموس\n",
    "## create a dictionary"
   ]
  },
  {
   "cell_type": "code",
   "execution_count": null,
   "metadata": {},
   "outputs": [],
   "source": [
    "ages = {'mohammd': 45, 'khadeejah': 35, 'ali': 37, 'omar': 29, 'zainub': 28, 'abdullah': 30, 'maryam': 29}"
   ]
  },
  {
   "cell_type": "markdown",
   "metadata": {},
   "source": [
    "---\n",
    "## طباعة مفاتيح وقيم القاموس لمن أعمارهم بين الثلاثين والأربعين\n",
    "## print keys and values of the dictionary where ages are between 30 and 40"
   ]
  },
  {
   "cell_type": "code",
   "execution_count": null,
   "metadata": {},
   "outputs": [],
   "source": [
    "for k,v in ages.items():\n",
    "    if 40 >= v >= 30:\n",
    "        print(k,v)"
   ]
  },
  {
   "cell_type": "code",
   "execution_count": null,
   "metadata": {},
   "outputs": [],
   "source": []
  }
 ],
 "metadata": {
  "kernelspec": {
   "display_name": "jv",
   "language": "python",
   "name": "jv"
  },
  "language_info": {
   "codemirror_mode": {
    "name": "ipython",
    "version": 3
   },
   "file_extension": ".py",
   "mimetype": "text/x-python",
   "name": "python",
   "nbconvert_exporter": "python",
   "pygments_lexer": "ipython3",
   "version": "3.9.0"
  }
 },
 "nbformat": 4,
 "nbformat_minor": 4
}
