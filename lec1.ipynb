{
 "cells": [
  {
   "cell_type": "markdown",
   "metadata": {},
   "source": [
    "# بسم الله الرحمن الرحيم\n",
    "---"
   ]
  },
  {
   "cell_type": "markdown",
   "metadata": {},
   "source": [
    "## إنشاء متغيرات بقيم أعدد صحيحة\n",
    "\n",
    "## Create vairiables with integer values"
   ]
  },
  {
   "cell_type": "code",
   "execution_count": null,
   "metadata": {},
   "outputs": [],
   "source": [
    "num1 = 5\n",
    "num2 = -3"
   ]
  },
  {
   "cell_type": "markdown",
   "metadata": {},
   "source": [
    "---\n",
    "## إنشاء متغيرات بقيم أعدد حقيقية\n",
    "\n",
    "## Create vairiables with float values"
   ]
  },
  {
   "cell_type": "code",
   "execution_count": null,
   "metadata": {},
   "outputs": [],
   "source": [
    "num3 = 3.011134\n",
    "num4 = -0.150002"
   ]
  },
  {
   "cell_type": "markdown",
   "metadata": {},
   "source": [
    "---\n",
    "## إنشاء متغيرات بقيم كتابية\n",
    "\n",
    "## Create vairiables with string values"
   ]
  },
  {
   "cell_type": "code",
   "execution_count": null,
   "metadata": {},
   "outputs": [],
   "source": [
    "word1 = 'abdullah'\n",
    "word2 = 'world cup 2022'"
   ]
  },
  {
   "cell_type": "markdown",
   "metadata": {},
   "source": [
    "---\n",
    "## إنشاء متغيرات بقيم منطقية\n",
    "\n",
    "## Create vairiables with boolean values"
   ]
  },
  {
   "cell_type": "code",
   "execution_count": null,
   "metadata": {},
   "outputs": [],
   "source": [
    "is_weekend = False"
   ]
  },
  {
   "cell_type": "markdown",
   "metadata": {},
   "source": [
    "---\n",
    "## طباعة متغيرات على الشاشة مع التنسيق\n",
    "\n",
    "## print variables on screen and formatting the output"
   ]
  },
  {
   "cell_type": "code",
   "execution_count": null,
   "metadata": {},
   "outputs": [],
   "source": [
    "print('the value of variable num1 = {}'.format(num1))"
   ]
  },
  {
   "cell_type": "code",
   "execution_count": null,
   "metadata": {},
   "outputs": [],
   "source": [
    "print('{} is planning to attend the {}'.format(word1,word2))"
   ]
  },
  {
   "cell_type": "markdown",
   "metadata": {},
   "source": [
    "---\n",
    "\n",
    "## عبارة شرطية لمقارنة متغيرين\n",
    "## an if statement to compare two variables"
   ]
  },
  {
   "cell_type": "code",
   "execution_count": null,
   "metadata": {},
   "outputs": [],
   "source": [
    "if num3 < num4:\n",
    "    print('num4 is larger')\n",
    "elif num3 > num4:\n",
    "    print('num3 is larger')\n",
    "else:\n",
    "    print('num3 and num4 are equal')"
   ]
  },
  {
   "cell_type": "code",
   "execution_count": null,
   "metadata": {},
   "outputs": [],
   "source": [
    "if is_weekend:\n",
    "    print('it is the weekend')\n",
    "else:\n",
    "    print('it is a normal weekday')"
   ]
  }
 ],
 "metadata": {
  "kernelspec": {
   "display_name": "jv",
   "language": "python",
   "name": "jv"
  },
  "language_info": {
   "codemirror_mode": {
    "name": "ipython",
    "version": 3
   },
   "file_extension": ".py",
   "mimetype": "text/x-python",
   "name": "python",
   "nbconvert_exporter": "python",
   "pygments_lexer": "ipython3",
   "version": "3.9.0"
  }
 },
 "nbformat": 4,
 "nbformat_minor": 4
}
