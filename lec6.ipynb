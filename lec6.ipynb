{
 "cells": [
  {
   "cell_type": "markdown",
   "metadata": {},
   "source": [
    "# بسم الله الرحمن الرحيم\n",
    "---"
   ]
  },
  {
   "cell_type": "markdown",
   "metadata": {},
   "source": [
    "##  إضافة پاكج الپانداز\n",
    "## import pandas package"
   ]
  },
  {
   "cell_type": "code",
   "execution_count": null,
   "metadata": {},
   "outputs": [],
   "source": [
    "import pandas as pd"
   ]
  },
  {
   "cell_type": "markdown",
   "metadata": {},
   "source": [
    "## إنشاء داتافريم عن طريق قراءة البيانات من ملف سي.إس.ڤي \n",
    "## creating a dataframe from a csv file"
   ]
  },
  {
   "cell_type": "code",
   "execution_count": null,
   "metadata": {},
   "outputs": [],
   "source": [
    "df = pd.read_csv('./data/disney_plus.csv')"
   ]
  },
  {
   "cell_type": "markdown",
   "metadata": {},
   "source": [
    "##  حذف الأسطر التي لا تحوي على عنوان للفلم أو المسلسل \n",
    "## dropping rows with no title"
   ]
  },
  {
   "cell_type": "code",
   "execution_count": null,
   "metadata": {},
   "outputs": [],
   "source": [
    "row_condition = df['title'].notnull()\n",
    "\n",
    "df = df.loc[row_condition, :]"
   ]
  },
  {
   "cell_type": "markdown",
   "metadata": {},
   "source": [
    "## فلترة البيانات التي تحوي تقييما أعلى من ٨ \n",
    "## filtering the data to have only ratings > 8"
   ]
  },
  {
   "cell_type": "code",
   "execution_count": null,
   "metadata": {},
   "outputs": [],
   "source": [
    "row_condition = df['imdb_rating'] >= 8.0\n",
    "column_condition = ['title','type','year','imdb_rating']\n",
    "\n",
    "df = df.loc[row_condition,column_condition]"
   ]
  },
  {
   "cell_type": "markdown",
   "metadata": {},
   "source": [
    "## سرد القيم الفريدة لعمود عام الإنتاج\n",
    "## get unique values of column year"
   ]
  },
  {
   "cell_type": "code",
   "execution_count": null,
   "metadata": {},
   "outputs": [],
   "source": [
    "df['year'].unique()"
   ]
  },
  {
   "cell_type": "markdown",
   "metadata": {},
   "source": [
    "## إنشاء عمود جديد يحوي قيمة عام الإنتاج معدلة ومنقحة\n",
    "## creating a new column containing modified year values"
   ]
  },
  {
   "cell_type": "code",
   "execution_count": null,
   "metadata": {},
   "outputs": [],
   "source": [
    "# تحويل القيم الغير معطاة إلى سالب واحد \n",
    "df['year'].fillna('-1',inplace=True)\n",
    "\n",
    "# إنشاء العمود الجديد بالقيم المعدلة والمحولة إلى قيمة رقمية\n",
    "df['year_cleaned'] = df.apply(lambda row: int(row['year'].split('–')[0]), axis=1)"
   ]
  },
  {
   "cell_type": "markdown",
   "metadata": {},
   "source": [
    "## إزالة عمود عام الإنتاج وتغيير اسم العمود الجديد للاسم الأصلي\n",
    "## dropping the original year column and renaming the new column to year"
   ]
  },
  {
   "cell_type": "code",
   "execution_count": null,
   "metadata": {},
   "outputs": [],
   "source": [
    "# إزالة عمود عام الإنتاج القديم\n",
    "df.drop(columns=['year'], inplace=True)\n",
    "\n",
    "# تغيير اسم العمود الجديد للاسم الأصلي\n",
    "df.rename(columns={'year_cleaned':'year'}, inplace=True)"
   ]
  },
  {
   "cell_type": "markdown",
   "metadata": {},
   "source": [
    "## التأكد من أنواع الأعمدة\n",
    "## making sure we have the right types of columns"
   ]
  },
  {
   "cell_type": "code",
   "execution_count": null,
   "metadata": {},
   "outputs": [],
   "source": [
    "df.dtypes"
   ]
  },
  {
   "cell_type": "markdown",
   "metadata": {},
   "source": [
    "## حفظ النتائج بملف جديد\n",
    "## saving results in a new csv file"
   ]
  },
  {
   "cell_type": "code",
   "execution_count": null,
   "metadata": {},
   "outputs": [],
   "source": [
    "df.to_csv('./data/cleaned_disney_plus.csv', index=False)"
   ]
  },
  {
   "cell_type": "code",
   "execution_count": null,
   "metadata": {},
   "outputs": [],
   "source": []
  }
 ],
 "metadata": {
  "kernelspec": {
   "display_name": "jv",
   "language": "python",
   "name": "jv"
  },
  "language_info": {
   "codemirror_mode": {
    "name": "ipython",
    "version": 3
   },
   "file_extension": ".py",
   "mimetype": "text/x-python",
   "name": "python",
   "nbconvert_exporter": "python",
   "pygments_lexer": "ipython3",
   "version": "3.9.0"
  }
 },
 "nbformat": 4,
 "nbformat_minor": 4
}
